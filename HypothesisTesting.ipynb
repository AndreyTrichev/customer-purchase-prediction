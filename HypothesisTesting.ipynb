{
  "cells": [
    {
      "cell_type": "markdown",
      "id": "4f610128",
      "metadata": {
        "id": "4f610128"
      },
      "source": [
        "## **Библиотеки, функции, загрузка файла**"
      ]
    },
    {
      "cell_type": "code",
      "execution_count": null,
      "id": "e86d6105",
      "metadata": {
        "id": "e86d6105"
      },
      "outputs": [],
      "source": [
        "import pandas as pd\n",
        "import numpy as np\n",
        "import matplotlib.pyplot as plt\n",
        "import seaborn as sns\n",
        "from scipy import stats\n",
        "from scipy.stats import zscore\n",
        "import matplotlib as mpl"
      ]
    },
    {
      "cell_type": "markdown",
      "id": "c16d1ecd",
      "metadata": {
        "id": "c16d1ecd"
      },
      "source": [
        "Функции   "
      ]
    },
    {
      "cell_type": "code",
      "execution_count": null,
      "id": "9ef824c4",
      "metadata": {
        "id": "9ef824c4"
      },
      "outputs": [],
      "source": [
        "def rename_columns(name):\n",
        "    new_name = name.replace(' ', '_').lower()\n",
        "    return new_name"
      ]
    },
    {
      "cell_type": "markdown",
      "id": "1c007aa0",
      "metadata": {
        "id": "1c007aa0"
      },
      "source": [
        "Загрузка файла  "
      ]
    },
    {
      "cell_type": "code",
      "execution_count": null,
      "id": "ceaa6d18",
      "metadata": {
        "colab": {
          "base_uri": "https://localhost:8080/",
          "height": 256
        },
        "id": "ceaa6d18",
        "outputId": "56c8903f-fdcc-43c3-d6bf-6fa38f1f8ea1"
      },
      "outputs": [
        {
          "data": {
            "text/html": [
              "<div>\n",
              "<style scoped>\n",
              "    .dataframe tbody tr th:only-of-type {\n",
              "        vertical-align: middle;\n",
              "    }\n",
              "\n",
              "    .dataframe tbody tr th {\n",
              "        vertical-align: top;\n",
              "    }\n",
              "\n",
              "    .dataframe thead th {\n",
              "        text-align: right;\n",
              "    }\n",
              "</style>\n",
              "<table border=\"1\" class=\"dataframe\">\n",
              "  <thead>\n",
              "    <tr style=\"text-align: right;\">\n",
              "      <th></th>\n",
              "      <th>Id</th>\n",
              "      <th>Year_Birth</th>\n",
              "      <th>Education</th>\n",
              "      <th>Marital_Status</th>\n",
              "      <th>Income</th>\n",
              "      <th>Kidhome</th>\n",
              "      <th>Teenhome</th>\n",
              "      <th>Dt_Customer</th>\n",
              "      <th>Recency</th>\n",
              "      <th>MntWines</th>\n",
              "      <th>...</th>\n",
              "      <th>MntFishProducts</th>\n",
              "      <th>MntSweetProducts</th>\n",
              "      <th>MntGoldProds</th>\n",
              "      <th>NumDealsPurchases</th>\n",
              "      <th>NumWebPurchases</th>\n",
              "      <th>NumCatalogPurchases</th>\n",
              "      <th>NumStorePurchases</th>\n",
              "      <th>NumWebVisitsMonth</th>\n",
              "      <th>Response</th>\n",
              "      <th>Complain</th>\n",
              "    </tr>\n",
              "  </thead>\n",
              "  <tbody>\n",
              "    <tr>\n",
              "      <th>0</th>\n",
              "      <td>1826</td>\n",
              "      <td>1970</td>\n",
              "      <td>Graduation</td>\n",
              "      <td>Divorced</td>\n",
              "      <td>84835.0</td>\n",
              "      <td>0</td>\n",
              "      <td>0</td>\n",
              "      <td>6/16/2014</td>\n",
              "      <td>0</td>\n",
              "      <td>189</td>\n",
              "      <td>...</td>\n",
              "      <td>111</td>\n",
              "      <td>189</td>\n",
              "      <td>218</td>\n",
              "      <td>1</td>\n",
              "      <td>4</td>\n",
              "      <td>4</td>\n",
              "      <td>6</td>\n",
              "      <td>1</td>\n",
              "      <td>1</td>\n",
              "      <td>0</td>\n",
              "    </tr>\n",
              "    <tr>\n",
              "      <th>1</th>\n",
              "      <td>1</td>\n",
              "      <td>1961</td>\n",
              "      <td>Graduation</td>\n",
              "      <td>Single</td>\n",
              "      <td>57091.0</td>\n",
              "      <td>0</td>\n",
              "      <td>0</td>\n",
              "      <td>6/15/2014</td>\n",
              "      <td>0</td>\n",
              "      <td>464</td>\n",
              "      <td>...</td>\n",
              "      <td>7</td>\n",
              "      <td>0</td>\n",
              "      <td>37</td>\n",
              "      <td>1</td>\n",
              "      <td>7</td>\n",
              "      <td>3</td>\n",
              "      <td>7</td>\n",
              "      <td>5</td>\n",
              "      <td>1</td>\n",
              "      <td>0</td>\n",
              "    </tr>\n",
              "    <tr>\n",
              "      <th>2</th>\n",
              "      <td>10476</td>\n",
              "      <td>1958</td>\n",
              "      <td>Graduation</td>\n",
              "      <td>Married</td>\n",
              "      <td>67267.0</td>\n",
              "      <td>0</td>\n",
              "      <td>1</td>\n",
              "      <td>5/13/2014</td>\n",
              "      <td>0</td>\n",
              "      <td>134</td>\n",
              "      <td>...</td>\n",
              "      <td>15</td>\n",
              "      <td>2</td>\n",
              "      <td>30</td>\n",
              "      <td>1</td>\n",
              "      <td>3</td>\n",
              "      <td>2</td>\n",
              "      <td>5</td>\n",
              "      <td>2</td>\n",
              "      <td>0</td>\n",
              "      <td>0</td>\n",
              "    </tr>\n",
              "    <tr>\n",
              "      <th>3</th>\n",
              "      <td>1386</td>\n",
              "      <td>1967</td>\n",
              "      <td>Graduation</td>\n",
              "      <td>Together</td>\n",
              "      <td>32474.0</td>\n",
              "      <td>1</td>\n",
              "      <td>1</td>\n",
              "      <td>11/5/2014</td>\n",
              "      <td>0</td>\n",
              "      <td>10</td>\n",
              "      <td>...</td>\n",
              "      <td>0</td>\n",
              "      <td>0</td>\n",
              "      <td>0</td>\n",
              "      <td>1</td>\n",
              "      <td>1</td>\n",
              "      <td>0</td>\n",
              "      <td>2</td>\n",
              "      <td>7</td>\n",
              "      <td>0</td>\n",
              "      <td>0</td>\n",
              "    </tr>\n",
              "    <tr>\n",
              "      <th>4</th>\n",
              "      <td>5371</td>\n",
              "      <td>1989</td>\n",
              "      <td>Graduation</td>\n",
              "      <td>Single</td>\n",
              "      <td>21474.0</td>\n",
              "      <td>1</td>\n",
              "      <td>0</td>\n",
              "      <td>8/4/2014</td>\n",
              "      <td>0</td>\n",
              "      <td>6</td>\n",
              "      <td>...</td>\n",
              "      <td>11</td>\n",
              "      <td>0</td>\n",
              "      <td>34</td>\n",
              "      <td>2</td>\n",
              "      <td>3</td>\n",
              "      <td>1</td>\n",
              "      <td>2</td>\n",
              "      <td>7</td>\n",
              "      <td>1</td>\n",
              "      <td>0</td>\n",
              "    </tr>\n",
              "  </tbody>\n",
              "</table>\n",
              "<p>5 rows × 22 columns</p>\n",
              "</div>"
            ],
            "text/plain": [
              "      Id  Year_Birth   Education Marital_Status   Income  Kidhome  Teenhome  \\\n",
              "0   1826        1970  Graduation       Divorced  84835.0        0         0   \n",
              "1      1        1961  Graduation         Single  57091.0        0         0   \n",
              "2  10476        1958  Graduation        Married  67267.0        0         1   \n",
              "3   1386        1967  Graduation       Together  32474.0        1         1   \n",
              "4   5371        1989  Graduation         Single  21474.0        1         0   \n",
              "\n",
              "  Dt_Customer  Recency  MntWines  ...  MntFishProducts  MntSweetProducts  \\\n",
              "0   6/16/2014        0       189  ...              111               189   \n",
              "1   6/15/2014        0       464  ...                7                 0   \n",
              "2   5/13/2014        0       134  ...               15                 2   \n",
              "3   11/5/2014        0        10  ...                0                 0   \n",
              "4    8/4/2014        0         6  ...               11                 0   \n",
              "\n",
              "   MntGoldProds  NumDealsPurchases  NumWebPurchases  NumCatalogPurchases  \\\n",
              "0           218                  1                4                    4   \n",
              "1            37                  1                7                    3   \n",
              "2            30                  1                3                    2   \n",
              "3             0                  1                1                    0   \n",
              "4            34                  2                3                    1   \n",
              "\n",
              "   NumStorePurchases  NumWebVisitsMonth  Response  Complain  \n",
              "0                  6                  1         1         0  \n",
              "1                  7                  5         1         0  \n",
              "2                  5                  2         0         0  \n",
              "3                  2                  7         0         0  \n",
              "4                  2                  7         1         0  \n",
              "\n",
              "[5 rows x 22 columns]"
            ]
          },
          "execution_count": 3,
          "metadata": {},
          "output_type": "execute_result"
        }
      ],
      "source": [
        "file_id = '1ATASmLwbd-sVPOJ7kChU9fumc15lRvwK'\n",
        "download_url = f'https://drive.google.com/uc?id={file_id}&export=download'\n",
        "df = pd.read_csv(download_url)\n",
        "\n",
        "df.head()"
      ]
    },
    {
      "cell_type": "markdown",
      "id": "5286e473",
      "metadata": {
        "id": "5286e473"
      },
      "source": [
        "# **Проверка гипотез**"
      ]
    },
    {
      "cell_type": "markdown",
      "id": "Jme0oXNCuhAT",
      "metadata": {
        "id": "Jme0oXNCuhAT"
      },
      "source": [
        "В рамках блока \"Проверка гипотез\" первично мы хотим проверить гипотезы, что **средние значения наших переменных различаются по группам целевой переменной**. </br>\n",
        "\n",
        "Напомним, что наша целевая переменная - **Response (отклик на маркетинговую кампанию по продаже золотого членства, которое дает 20% скидку)**.  </br>\n",
        "\n",
        "Проверять статистические различие средних между группой тех, кто купил товар, и тех, кто не купил, - мы будет через **двухвыборочный t-test для двух независимых выборок.** </br>\n",
        "\n",
        "Постановка гипотез выглядит следующим образом (на примере - переменной Income (доход)): </br>\n",
        "\n",
        "**H<sub>0</sub>:** Средние доходы одинаковы у тех, кто откликнулся на кампанию, и у тех, не откликнулся.</br>\n",
        "\n",
        "**H<sub>1</sub>:** Средние доходы по группам различаются.\n",
        "\n",
        "Уровень статистической значимости - 95%.\n"
      ]
    },
    {
      "cell_type": "markdown",
      "id": "40fbe5a3",
      "metadata": {
        "id": "40fbe5a3"
      },
      "source": [
        "Подготовка данных для проверки гипотез через t-test"
      ]
    },
    {
      "cell_type": "code",
      "execution_count": null,
      "id": "891496b0",
      "metadata": {
        "id": "891496b0"
      },
      "outputs": [],
      "source": [
        "from scipy.stats import ttest_ind\n",
        "\n",
        "df['Response'] = df['Response'].map({'Не купил':0 , 'Купил':1 })\n",
        "df['Income'] = df['Income'].fillna(df['Income'].median())\n",
        "df_response_1 = df[df.Response == 1]\n",
        "df_response_0 = df[df.Response == 0]\n",
        "numeric_cols = df.select_dtypes(include=['int64', 'float64']).columns.difference(['Response', 'Id', 'Teenhome', 'Kidhome', 'Complain'])"
      ]
    },
    {
      "cell_type": "markdown",
      "id": "89fdeb3f",
      "metadata": {
        "id": "89fdeb3f"
      },
      "source": [
        "Гипотезы, которые мы будет проверять с помощью t-test, относятся к количественным переменным из нашего датасета:\n",
        "\n",
        "**H<sub>1</sub>:** **Средние общие расходы (Total_Spending)** различаются у тех, кто откликнулся на кампанию, и у тех, не откликнулся. </br>\n",
        "**Клиенты с высокими общими расходами** могут быть **более заинтересованными** принять маркетинговое предложение **с целью экономии** в конкретной сети. [Покупка программы лояльности также может увеличить траты](https://www.mckinsey.com/capabilities/growth-marketing-and-sales/our-insights/coping-with-the-big-switch-how-paid-loyalty-programs-can-help-bring-consumers-back-to-your-brand) данного клиента впоследствии на этот бренд, что применимо и к сети.\n",
        "</br>\n",
        "</br>\n",
        "\n",
        "**H<sub>2</sub>:** **Средние доходы (Income)** различаются у тех, кто откликнулся на кампанию, и у тех, не откликнулся. </br>\n",
        "**Клиенты с более высоким доходом реже принимают золотое членство**, потому что у них **нет прямой цели экономить**, а основной оффер золотого членства - 20% cкидка, но без привилегий и VIP-подхода - важных качеств для когорт с более высоким доходом.\n",
        "</br>\n",
        "</br>\n",
        "\n",
        "**H<sub>3</sub>:** **Средний год рождения(Year_Birth)** различается у тех, кто откликнулся на кампанию, и у тех, не откликнулся. </br>\n",
        "[По опросным данным](https://www.inc.com/peter-roesler/new-study-shows-deals-promotions-affect-every-part-of-shopping-experience.html) - **миллинеалы (18-34 лет) чаще ищут промо-предложение с скидками** в Интернете перед покупкой, чем представители старшего поколения (55+). Возможно, более старшие поколения их ищут в оффлайне, но различия возрастные могут быть, поэтому проверим данную гипотезу. Также метод проведения кампании может повлиять на средний возраст принятия оффера - [с возрастом люди чаще предпочитают телефонные звонки как средство коммуникации в России](https://iom.anketolog.ru/2021/08/31/pozvoni-mne).\n",
        "</br>\n",
        "</br>\n",
        "\n",
        "**H<sub>4</sub>:** **Средний количество покупок со скидками (NumDealsPurchases)** различается у тех, кто откликнулся на кампанию, и у тех, не откликнулся. </br>\n",
        "**Заинтересованные экономить на обычных скидках**, могут быть также заинтересованы сэкономить деньги за счет **скидки клубной карты** и чаще их приобретать.\n",
        "</br>\n",
        "</br>\n",
        "\n",
        "**H<sub>5</sub>:** **Среднее количество посещений сайта (NumWebVisitsMonth)**  различается у тех, кто откликнулся на кампанию, и у тех, не откликнулся. </br>\n",
        "[Более активными интернет-пользователями являются более молодые поколения](https://www.levada.ru/2024/04/23/auditoriya-polzovatelej-interneta-sotsialnyh-setej-messendzherov-i-vpn-servisov/), а они в свою очередь [не предпочитают коммуникацию через телефонный звонок](https://iom.anketolog.ru/2021/08/31/pozvoni-mne). Это могло повлиять на предложение им клубной карты.\n",
        "</br>\n",
        "</br>\n",
        "\n",
        "**H<sub>6</sub>:** **Среднее количество покупок в оффлайн-магазине (NumStorePurchases)**  не различается у тех, кто откликнулся на кампанию, и у тех, не откликнулся. </br>\n",
        "</br>\n",
        "\n",
        "**H<sub>7</sub>:** **Среднее количество покупок через каталог (NumCatalogPurchases)**  не различается у тех, кто откликнулся на кампанию, и у тех, не откликнулся. </br>\n",
        "</br>\n",
        "\n",
        "**H<sub>8</sub>:** **Среднее количество покупок в онлайн-магазине(NumWebPurchases)**  не различается у тех, кто откликнулся на кампанию, и у тех, не откликнулся.\n",
        "</br>\n",
        "</br>\n",
        "\n",
        "**H<sub>9</sub>:** **Среднее количество дней с последней покупки (Recency)**  различается у тех, кто откликнулся на кампанию, и у тех, не откликнулся. </br>\n",
        "Клиенты, совершавшие **покупки недавно, чаще соглашаются**, в то время, как д**авние клиенты могли потерять лояльность к сети** и быть незаинтересованными в предложении.\n",
        "</br>\n",
        "</br>\n",
        "\n",
        "**H<sub>10,11,12,13,14,15</sub>:** **Средние расходы по различным категориям (MntWines, MntFishProducts, MntFruits, MntGoldProds, MntSweetProducts, MntMeatProducts)**  различаются у тех, кто откликнулся на кампанию, и у тех, не откликнулся. </br>\n",
        "В целом **чем выше траты, чем большее желание у клиентов может быть экономить** на них. Но скорее всего **эффект этого может быть выше в категориях с высоким чеком** - Вино(MntWines) или Золотые изделия (MntGoldProds).\n",
        "\n",
        "</br>\n"
      ]
    },
    {
      "cell_type": "code",
      "execution_count": null,
      "id": "260705be",
      "metadata": {
        "colab": {
          "base_uri": "https://localhost:8080/",
          "height": 520
        },
        "id": "260705be",
        "outputId": "9ea30701-e293-4433-d2a1-e312a7af87f2"
      },
      "outputs": [
        {
          "data": {
            "text/html": [
              "<div>\n",
              "<style scoped>\n",
              "    .dataframe tbody tr th:only-of-type {\n",
              "        vertical-align: middle;\n",
              "    }\n",
              "\n",
              "    .dataframe tbody tr th {\n",
              "        vertical-align: top;\n",
              "    }\n",
              "\n",
              "    .dataframe thead th {\n",
              "        text-align: right;\n",
              "    }\n",
              "</style>\n",
              "<table border=\"1\" class=\"dataframe\">\n",
              "  <thead>\n",
              "    <tr style=\"text-align: right;\">\n",
              "      <th></th>\n",
              "      <th>Variable</th>\n",
              "      <th>t-statistic</th>\n",
              "      <th>p-value</th>\n",
              "      <th>Mean_response_1</th>\n",
              "      <th>Mean_response_0</th>\n",
              "      <th>p &lt; 0.05</th>\n",
              "    </tr>\n",
              "  </thead>\n",
              "  <tbody>\n",
              "    <tr>\n",
              "      <th>0</th>\n",
              "      <td>Income</td>\n",
              "      <td>6.341853</td>\n",
              "      <td>0.0000</td>\n",
              "      <td>60183.244012</td>\n",
              "      <td>50845.677597</td>\n",
              "      <td>True</td>\n",
              "    </tr>\n",
              "    <tr>\n",
              "      <th>1</th>\n",
              "      <td>MntFishProducts</td>\n",
              "      <td>5.299728</td>\n",
              "      <td>0.0000</td>\n",
              "      <td>52.050898</td>\n",
              "      <td>34.980063</td>\n",
              "      <td>True</td>\n",
              "    </tr>\n",
              "    <tr>\n",
              "      <th>2</th>\n",
              "      <td>MntFruits</td>\n",
              "      <td>5.974176</td>\n",
              "      <td>0.0000</td>\n",
              "      <td>38.203593</td>\n",
              "      <td>24.216684</td>\n",
              "      <td>True</td>\n",
              "    </tr>\n",
              "    <tr>\n",
              "      <th>3</th>\n",
              "      <td>MntGoldProds</td>\n",
              "      <td>6.681623</td>\n",
              "      <td>0.0000</td>\n",
              "      <td>61.446108</td>\n",
              "      <td>40.968520</td>\n",
              "      <td>True</td>\n",
              "    </tr>\n",
              "    <tr>\n",
              "      <th>4</th>\n",
              "      <td>MntMeatProducts</td>\n",
              "      <td>11.506382</td>\n",
              "      <td>0.0000</td>\n",
              "      <td>294.353293</td>\n",
              "      <td>144.624344</td>\n",
              "      <td>True</td>\n",
              "    </tr>\n",
              "    <tr>\n",
              "      <th>5</th>\n",
              "      <td>MntSweetProducts</td>\n",
              "      <td>5.591218</td>\n",
              "      <td>0.0000</td>\n",
              "      <td>38.634731</td>\n",
              "      <td>25.035152</td>\n",
              "      <td>True</td>\n",
              "    </tr>\n",
              "    <tr>\n",
              "      <th>6</th>\n",
              "      <td>MntWines</td>\n",
              "      <td>12.071816</td>\n",
              "      <td>0.0000</td>\n",
              "      <td>502.703593</td>\n",
              "      <td>269.104407</td>\n",
              "      <td>True</td>\n",
              "    </tr>\n",
              "    <tr>\n",
              "      <th>7</th>\n",
              "      <td>NumCatalogPurchases</td>\n",
              "      <td>10.710356</td>\n",
              "      <td>0.0000</td>\n",
              "      <td>4.203593</td>\n",
              "      <td>2.391920</td>\n",
              "      <td>True</td>\n",
              "    </tr>\n",
              "    <tr>\n",
              "      <th>10</th>\n",
              "      <td>NumWebPurchases</td>\n",
              "      <td>7.115161</td>\n",
              "      <td>0.0000</td>\n",
              "      <td>5.071856</td>\n",
              "      <td>3.911857</td>\n",
              "      <td>True</td>\n",
              "    </tr>\n",
              "    <tr>\n",
              "      <th>12</th>\n",
              "      <td>Recency</td>\n",
              "      <td>-9.578014</td>\n",
              "      <td>0.0000</td>\n",
              "      <td>35.383234</td>\n",
              "      <td>51.514690</td>\n",
              "      <td>True</td>\n",
              "    </tr>\n",
              "    <tr>\n",
              "      <th>13</th>\n",
              "      <td>Total_Spending</td>\n",
              "      <td>13.017033</td>\n",
              "      <td>0.0000</td>\n",
              "      <td>987.392216</td>\n",
              "      <td>538.929171</td>\n",
              "      <td>True</td>\n",
              "    </tr>\n",
              "    <tr>\n",
              "      <th>9</th>\n",
              "      <td>NumStorePurchases</td>\n",
              "      <td>1.863631</td>\n",
              "      <td>0.0625</td>\n",
              "      <td>6.095808</td>\n",
              "      <td>5.736621</td>\n",
              "      <td>False</td>\n",
              "    </tr>\n",
              "    <tr>\n",
              "      <th>14</th>\n",
              "      <td>Year_Birth</td>\n",
              "      <td>1.009072</td>\n",
              "      <td>0.3130</td>\n",
              "      <td>1969.416168</td>\n",
              "      <td>1968.698846</td>\n",
              "      <td>False</td>\n",
              "    </tr>\n",
              "    <tr>\n",
              "      <th>11</th>\n",
              "      <td>NumWebVisitsMonth</td>\n",
              "      <td>-0.188598</td>\n",
              "      <td>0.8504</td>\n",
              "      <td>5.293413</td>\n",
              "      <td>5.320567</td>\n",
              "      <td>False</td>\n",
              "    </tr>\n",
              "    <tr>\n",
              "      <th>8</th>\n",
              "      <td>NumDealsPurchases</td>\n",
              "      <td>0.105889</td>\n",
              "      <td>0.9157</td>\n",
              "      <td>2.335329</td>\n",
              "      <td>2.323190</td>\n",
              "      <td>False</td>\n",
              "    </tr>\n",
              "  </tbody>\n",
              "</table>\n",
              "</div>"
            ],
            "text/plain": [
              "               Variable  t-statistic p-value  Mean_response_1  \\\n",
              "0                Income     6.341853  0.0000     60183.244012   \n",
              "1       MntFishProducts     5.299728  0.0000        52.050898   \n",
              "2             MntFruits     5.974176  0.0000        38.203593   \n",
              "3          MntGoldProds     6.681623  0.0000        61.446108   \n",
              "4       MntMeatProducts    11.506382  0.0000       294.353293   \n",
              "5      MntSweetProducts     5.591218  0.0000        38.634731   \n",
              "6              MntWines    12.071816  0.0000       502.703593   \n",
              "7   NumCatalogPurchases    10.710356  0.0000         4.203593   \n",
              "10      NumWebPurchases     7.115161  0.0000         5.071856   \n",
              "12              Recency    -9.578014  0.0000        35.383234   \n",
              "13       Total_Spending    13.017033  0.0000       987.392216   \n",
              "9     NumStorePurchases     1.863631  0.0625         6.095808   \n",
              "14           Year_Birth     1.009072  0.3130      1969.416168   \n",
              "11    NumWebVisitsMonth    -0.188598  0.8504         5.293413   \n",
              "8     NumDealsPurchases     0.105889  0.9157         2.335329   \n",
              "\n",
              "    Mean_response_0  p < 0.05   \n",
              "0      50845.677597       True  \n",
              "1         34.980063       True  \n",
              "2         24.216684       True  \n",
              "3         40.968520       True  \n",
              "4        144.624344       True  \n",
              "5         25.035152       True  \n",
              "6        269.104407       True  \n",
              "7          2.391920       True  \n",
              "10         3.911857       True  \n",
              "12        51.514690       True  \n",
              "13       538.929171       True  \n",
              "9          5.736621      False  \n",
              "14      1968.698846      False  \n",
              "11         5.320567      False  \n",
              "8          2.323190      False  "
            ]
          },
          "execution_count": 40,
          "metadata": {},
          "output_type": "execute_result"
        }
      ],
      "source": [
        "results = []\n",
        "\n",
        "\n",
        "for col in numeric_cols:\n",
        "\n",
        "    group1 = df_response_1[col]\n",
        "    group0 = df_response_0[col]\n",
        "\n",
        "    if not group1.equals(group0):\n",
        "        stat, p = ttest_ind(group1, group0)\n",
        "        results.append({\n",
        "            'Variable': col,\n",
        "            't-statistic': stat,\n",
        "            'p-value': p,\n",
        "            'Mean_response_1': group1.mean(),\n",
        "            'Mean_response_0': group0.mean(),\n",
        "            'p < 0.05 ': p < 0.05\n",
        "        })\n",
        "\n",
        "\n",
        "results_df = pd.DataFrame(results)\n",
        "results_df['p-value'] = results_df['p-value'].apply(lambda x: f\"{x:.4f}\")\n",
        "\n",
        "\n",
        "results_df.sort_values('p-value')\n"
      ]
    },
    {
      "cell_type": "markdown",
      "id": "5WWBIgA0J1q0",
      "metadata": {
        "id": "5WWBIgA0J1q0"
      },
      "source": [
        "### Выводы:\n",
        "* Наша **H<sub>1</sub> подтвердилась - средние общие расходы (Total_Spending) выше у тех, кто откликнулся на кампанию, чтобы больше сэкономить.** Такие же результаты и с гипотезами по переменными расходов по категориям H<sub>10,11,12,13,14,15</sub> - средние по ним тоже статистически значимо выше у группы тех, кто оформил клубную карту.\n",
        "* **Гипотеза H<sub>2</sub> подтвердилась, но в обратную сторону от наших предложений.** Средние различаются, но все же те, кто покупали клубные карты, были богаче тех, кто их себе не приобрел. Возможно, здесь есть **эффекты цены клубной карты - почти 500$**.\n",
        "* **Гипотезы H<sub>7</sub> и H<sub>8</sub> не подтвердились.** В них мы не предполагали, что будет какая-то разница, так как не нашли доводов для их существования. Но все же статистическая разница в средних по переменным количества покупок в каталоге/онлайн-магазине существует\n",
        "* **Гипотеза H<sub>9</sub> подтвердилась. Клиенты, совершавшие покупки недавно, чаще соглашаются.** Возможно, это связано с нашей предпоссылкой о лояльности клиента.\n",
        "* **Средние статистически значимо не различаются только по четырем переменным - NumStorePurchases(H<sub>6</sub>), Year_Birth(H<sub>3</sub>), NumWebVisitsMonth (H<sub>5</sub>) и NumDealsPurchases (H<sub>4</sub>).** Это значит, что количество покупок в оффлайн-магазинах, возраст, количество посещений веб-сайта и количество покупок с скидками не различаются у тех, кто оформил клубную карту и у тех, кто ее не купил:\n",
        "  - Для **NumStorePurchases(H<sub>6</sub>)** - мы не делали предпоссылок, что они будут различаться.\n",
        "  - Для **Year_Birth(H<sub>3</sub>) и NumWebVisitsMonth (H<sub>5</sub>)** - основной предпоссылкой служило различие молодого и старшего поколения. При разведывательном анализе затрагиваются широкие возрастные группы, но возможно они не все репрезентативно представлены в датасете.\n",
        "  - Для **NumDealsPurchases (H<sub>4</sub>)** - основной предпоссылкой являлось желание сэкономить, но возможно, данная группа пользователей и так экономит на обычных скидках, выбирая только данные товары, и они не готовы тратить 500 долларов на клубную карту для скидки на обычные товары.\n",
        "\n",
        "\n"
      ]
    },
    {
      "cell_type": "markdown",
      "id": "-hnDWBkdBuRi",
      "metadata": {
        "id": "-hnDWBkdBuRi"
      },
      "source": [
        "## Гипотеза 1 – «Семьи с детьми больше стратят на сладости и  и чаще совершают покупки по скидкам»"
      ]
    },
    {
      "cell_type": "markdown",
      "id": "bqVcKtISJ1Su",
      "metadata": {
        "id": "bqVcKtISJ1Su"
      },
      "source": [
        "**Формулировка**  \n",
        "Семьи, где есть хотя бы один ребёнок (`Kidhome + Teenhome > 0`), тратят больше на сладости (`MntSweetProducts`) и чаще совершают покупки по скидкам (`NumDealsPurchases`), чем семьи без детей.\n",
        "\n",
        "**Обоснование**  \n",
        "Дети повышают спрос на сладкое и заставляют родителей искать акции — типичный паттерн FMCG-рынка.\n",
        "\n",
        "**Бизнес-смысл:**  \n",
        "Проверяется является ли семейный сегмент целевым для промо сладостей и скидок. Повышает точность маркетинговых кампаний и кросс-продажи.\n",
        "\n",
        "**H0 (нулевая гипотеза):**  \n",
        "Средние значения `MntSweetProducts` и `NumDealsPurchases` не различаются между семьями с детьми и без.\n",
        "\n",
        "**H1 (альтернативная гипотеза):**  \n",
        "Семьи с детьми тратят больше на сладости и чаще совершают покупки со скидкой.\n",
        "\n",
        "**Переменные:**  \n",
        "- `Kidhome`, `Teenhome` → формируют бинарный признак `HasKids`  \n",
        "- `MntSweetProducts`, `NumDealsPurchases`\n",
        "\n",
        "**Тест / метод:**  \n",
        "- Манн–Уитни или t-тест (в зависимости от нормальности)\n",
        "- Bootstrap 95% CI разницы медиан для `MntSweetProducts`"
      ]
    },
    {
      "cell_type": "code",
      "execution_count": null,
      "id": "bSRWlYMiBoWv",
      "metadata": {
        "id": "bSRWlYMiBoWv"
      },
      "outputs": [],
      "source": [
        "from scipy.stats import mannwhitneyu, ttest_ind\n",
        "import matplotlib.pyplot as plt\n",
        "import seaborn as sns\n",
        "from sklearn.utils import resample\n",
        "\n",
        "# Создание переменной \"есть дети\"\n",
        "df[\"HasKids\"] = (df[\"Kidhome\"] + df[\"Teenhome\"] > 0).astype(int)\n",
        "\n",
        "# Группы\n",
        "kids = df[df[\"HasKids\"] == 1]\n",
        "no_kids = df[df[\"HasKids\"] == 0]"
      ]
    },
    {
      "cell_type": "markdown",
      "id": "kI_pR0qNDCBM",
      "metadata": {
        "id": "kI_pR0qNDCBM"
      },
      "source": [
        "Тест: сладости"
      ]
    },
    {
      "cell_type": "code",
      "execution_count": null,
      "id": "E4yaIretCsYf",
      "metadata": {
        "colab": {
          "base_uri": "https://localhost:8080/",
          "height": 470
        },
        "id": "E4yaIretCsYf",
        "outputId": "36888904-ead3-41e5-a9c5-02a14b8d3e61"
      },
      "outputs": [
        {
          "data": {
            "text/plain": [
              "<Axes: xlabel='MntSweetProducts', ylabel='Count'>"
            ]
          },
          "execution_count": 42,
          "metadata": {},
          "output_type": "execute_result"
        },
        {
          "data": {
            "image/png": "[encoded data removed]",
            "text/plain": [
              "<Figure size 640x480 with 1 Axes>"
            ]
          },
          "metadata": {},
          "output_type": "display_data"
        }
      ],
      "source": [
        "# Проверка нормальности (необязательно)\n",
        "sns.histplot(kids['MntSweetProducts'], kde=True)\n",
        "sns.histplot(no_kids['MntSweetProducts'], kde=True)"
      ]
    },
    {
      "cell_type": "markdown",
      "id": "wuypNopOIMpP",
      "metadata": {
        "id": "wuypNopOIMpP"
      },
      "source": [
        "Распределение переменной MntSweetProducts на гистограммах выглядит сильно скошенным вправо. Много клиентов с малыми затратами, и очень мало — с большими.\n",
        "Поэтому используем непараметрический тест Манна–Уитни, и Bootstrap-медиан и доверительных интервалов."
      ]
    },
    {
      "cell_type": "code",
      "execution_count": null,
      "id": "PehHKJ4gIE-g",
      "metadata": {
        "id": "PehHKJ4gIE-g"
      },
      "outputs": [],
      "source": [
        "# Манн–Уитни\n",
        "stat1, pval1 = mannwhitneyu(kids[\"MntSweetProducts\"], no_kids[\"MntSweetProducts\"], alternative='greater')\n",
        "\n",
        "# Bootstrap 95% CI\n",
        "boot_diffs = []\n",
        "for _ in range(10000):\n",
        "    sample1 = resample(kids[\"MntSweetProducts\"], replace=True)\n",
        "    sample2 = resample(no_kids[\"MntSweetProducts\"], replace=True)\n",
        "    boot_diffs.append(sample1.median() - sample2.median())\n",
        "\n",
        "ci_low, ci_high = np.percentile(boot_diffs, [2.5, 97.5])"
      ]
    },
    {
      "cell_type": "markdown",
      "id": "ayi-A6w3DEih",
      "metadata": {
        "id": "ayi-A6w3DEih"
      },
      "source": [
        "Тест: покупки со скидкой"
      ]
    },
    {
      "cell_type": "code",
      "execution_count": null,
      "id": "W0mOG3YQC_H4",
      "metadata": {
        "id": "W0mOG3YQC_H4"
      },
      "outputs": [],
      "source": [
        "stat2, pval2 = mannwhitneyu(kids[\"NumDealsPurchases\"], no_kids[\"NumDealsPurchases\"], alternative='greater')"
      ]
    },
    {
      "cell_type": "markdown",
      "id": "5Bw6d25dDNi-",
      "metadata": {
        "id": "5Bw6d25dDNi-"
      },
      "source": [
        "Результаты проверки гипотезы"
      ]
    },
    {
      "cell_type": "code",
      "execution_count": null,
      "id": "VRdL2MRnD9ke",
      "metadata": {
        "colab": {
          "base_uri": "https://localhost:8080/",
          "height": 663
        },
        "id": "VRdL2MRnD9ke",
        "outputId": "88a2b2f9-316a-47cb-9572-4db03df11d4d"
      },
      "outputs": [
        {
          "name": "stdout",
          "output_type": "stream",
          "text": [
            "Результаты проверки гипотезы:\n",
            "MntSweetProducts:\n",
            " - Статистика: 233457.50\n",
            " - P-value: 1.0000\n",
            "95% CI разницы медиан: [-36.00; -26.00]\n",
            "\n",
            "NumDealsPurchases:\n",
            " - Статистика: 846946.00\n",
            " - P-value: 0.0000\n"
          ]
        },
        {
          "data": {
            "image/png": "[encoded data removed]",
            "text/plain": [
              "<Figure size 1200x500 with 2 Axes>"
            ]
          },
          "metadata": {},
          "output_type": "display_data"
        }
      ],
      "source": [
        "fig, axs = plt.subplots(1, 2, figsize=(12, 5))\n",
        "sns.boxplot(data=df, x=\"HasKids\", y=\"MntSweetProducts\", ax=axs[0])\n",
        "axs[0].set_title(\"Траты на сладости по наличию детей\")\n",
        "\n",
        "sns.boxplot(data=df, x=\"HasKids\", y=\"NumDealsPurchases\", ax=axs[1])\n",
        "axs[1].set_title(\"Покупки по скидкам по наличию детей\")\n",
        "plt.tight_layout()\n",
        "\n",
        "print(f\"Результаты проверки гипотезы:\")\n",
        "print(f\"MntSweetProducts:\\n - Статистика: {stat1:.2f}\\n - P-value: {pval1:.4f}\")\n",
        "print(f\"95% CI разницы медиан: [{ci_low:.2f}; {ci_high:.2f}]\")\n",
        "\n",
        "print(f\"\\nNumDealsPurchases:\\n - Статистика: {stat2:.2f}\\n - P-value: {pval2:.4f}\")"
      ]
    },
    {
      "cell_type": "markdown",
      "id": "6E72JcGpFHD5",
      "metadata": {
        "id": "6E72JcGpFHD5"
      },
      "source": [
        "Выводы\n",
        "1. MntSweetProducts:\n",
        "* нет статистически значимых различий в тратах на сладости между семьями с детьми и без. Более того, медианная разница отрицательная — семьи с детьми тратят меньше. Нулевая гипотеза не отвергнута.\n",
        "* Boxplot по MntSweetProducts показывает, что бездетные клиенты в среднем тратят больше на сладости.\n",
        "\n",
        "2. NumDealsPurchases:\n",
        "* статистически значимое различие есть — семьи с детьми чаще совершают покупки по скидкам. Нулевая гипотеза отвергнута.\n",
        "* Boxplot по NumDealsPurchases — семьи с детьми явно активнее покупают по скидкам.\n",
        "\n",
        "Семейные клиенты чувствительны к скидкам. Продуктовые предложения для них стоит адаптировать не по объёму (как ожидалось), а по выгоде, упаковке и частоте промо."
      ]
    },
    {
      "cell_type": "markdown",
      "id": "buSvVib0J4ca",
      "metadata": {
        "id": "buSvVib0J4ca"
      },
      "source": [
        "## Гипотеза 2 – «Стаж клиента влияет на отклик»"
      ]
    },
    {
      "cell_type": "markdown",
      "id": "uLEf4CVvWhS-",
      "metadata": {
        "id": "uLEf4CVvWhS-"
      },
      "source": [
        "**Формулировка:**  \n",
        "«Старые» клиенты (стаж > 12 месяцев, `Dt_Customer`) чаще откликаются на кампанию (`Response = 1`), чем «новые» (стаж ≤ 12 месяцев).\n",
        "\n",
        "**Обоснование:**  \n",
        "Предполагалось, что новые клиенты проявляют больше интереса на этапе онбординга. Однако возможно, что именно «старые» клиенты — более лояльные и склонны чаще откликаться на предложения. Гипотеза направлена на проверку этой альтернативной гипотезы.\n",
        "\n",
        "**Бизнес-смысл:**  \n",
        "Подтверждение гипотезы оправдывает фокус на удержании и стимулировании повторных покупок у лояльных клиентов, а не на избыточных вложениях в онбординг. Это позволит:\n",
        "- сократить маркетинговые расходы на новые сегменты;\n",
        "- усилить программы лояльности для старых клиентов;\n",
        "- повысить ROI за счёт более эффективного таргетинга.\n",
        "\n",
        "**H0 (нулевая гипотеза):**  \n",
        "Доли отклика (`Response = 1`) у новых (≤ 12 месяцев) и старых (> 12 месяцев) клиентов одинаковы.\n",
        "\n",
        "**H1 (альтернативная гипотеза):**  \n",
        "Доля отклика у «старых» клиентов выше, чем у «новых».\n",
        "\n",
        "**Переменные:**  \n",
        "- `Dt_Customer` — дата регистрации клиента;  \n",
        "- `StajFlag` — бинарная переменная (1 = новый, 0 = старый);  \n",
        "- `Response` — отклик на кампанию (1 = отклик, 0 = нет).\n",
        "\n",
        "**Тест / метод:**  \n",
        "- Хи-квадрат тест независимости по таблице сопряженности `StajFlag × Response`, α = 0.05.  \n",
        "- Логистическая регрессия: `Response ~ StajFlag` (опционально, для подтверждения направления и силы эффекта).\n"
      ]
    },
    {
      "cell_type": "code",
      "execution_count": null,
      "id": "-PGlmpDRmRE9",
      "metadata": {
        "colab": {
          "base_uri": "https://localhost:8080/",
          "height": 559
        },
        "id": "-PGlmpDRmRE9",
        "outputId": "f5768bd7-074d-46cc-db8c-eaa44826009c"
      },
      "outputs": [
        {
          "data": {
            "image/png": "[encoded data removed]",
            "text/plain": [
              "<Figure size 800x500 with 1 Axes>"
            ]
          },
          "metadata": {},
          "output_type": "display_data"
        },
        {
          "name": "stdout",
          "output_type": "stream",
          "text": [
            "Результаты теста:\n",
            "Chi2 = 31.01\n",
            "P-value = 0.0000\n"
          ]
        }
      ],
      "source": [
        "import pandas as pd\n",
        "import seaborn as sns\n",
        "import matplotlib.pyplot as plt\n",
        "from scipy.stats import chi2_contingency\n",
        "\n",
        "# Преобразуем дату клиента в формат datetime\n",
        "df['Dt_Customer'] = pd.to_datetime(df['Dt_Customer'])\n",
        "\n",
        "# Определяем максимальную дату в данных\n",
        "reference_date = df['Dt_Customer'].max()\n",
        "\n",
        "# Создаём переменную \"стаж клиента\": 1 — новый клиент (за последние 12 мес), 0 — старый\n",
        "df['StajFlag'] = (df['Dt_Customer'] >= (reference_date - pd.DateOffset(months=12))).astype(int)\n",
        "\n",
        "# Добавляем читаемую группу\n",
        "df['StajGroup'] = df['StajFlag'].map({1: 'New clients', 0: 'Old clients'})\n",
        "\n",
        "# Преобразуем Response в числовой формат (если нужно)\n",
        "if df['Response'].dtype == object:\n",
        "    df['Response_numeric'] = df['Response'].map({'Купил': 1, 'Не купил': 0})\n",
        "else:\n",
        "    df['Response_numeric'] = df['Response']\n",
        "\n",
        "# Фильтруем данные, удаляя пропуски\n",
        "df_filtered = df[['StajFlag', 'StajGroup', 'Response_numeric']].dropna()\n",
        "\n",
        "# Проверим, что переменные есть и заполнены\n",
        "if df_filtered.empty:\n",
        "    raise ValueError(\"После фильтрации нет данных для анализа.\")\n",
        "\n",
        "# Доля откликов\n",
        "response_rates = df_filtered.groupby('StajGroup')['Response_numeric'].mean().reset_index()\n",
        "\n",
        "# Построим график\n",
        "sns.set_style(\"whitegrid\")\n",
        "plt.figure(figsize=(8, 5))\n",
        "sns.barplot(x='StajGroup', y='Response_numeric', data=response_rates)\n",
        "plt.title('Доля откликов по стажу клиента')\n",
        "plt.ylabel('Доля откликов')\n",
        "plt.xlabel('Группа по стажу')\n",
        "plt.ylim(0, 1)\n",
        "plt.tight_layout()\n",
        "plt.show()\n",
        "\n",
        "# Хи-квадрат тест\n",
        "contingency = pd.crosstab(df_filtered['StajFlag'], df_filtered['Response_numeric'])\n",
        "chi2, p_value, dof, expected = chi2_contingency(contingency)\n",
        "\n",
        "# Вывод результатов\n",
        "print(\"Результаты теста:\")\n",
        "print(f\"Chi2 = {chi2:.2f}\")\n",
        "print(f\"P-value = {p_value:.4f}\")\n"
      ]
    },
    {
      "cell_type": "markdown",
      "id": "w-O17MbUdt8Z",
      "metadata": {
        "id": "w-O17MbUdt8Z"
      },
      "source": [
        "**Вывод:**  \n",
        "\n",
        "Нулевая гипотеза отвергнута: доли откликов у новых (стаж ≤ 12 месяцев) и старых (стаж > 12 месяцев) клиентов **статистически значимо различаются**. Но в отличие от исходного предположения, **старые клиенты** откликнулись на кампанию **чаще**, чем новые. Возможные причины: отсутствие устойчивого интереса к продукту, слабая вовлечённость или ограниченный контакт с брендом на момент кампании.\n",
        "\n",
        "**Рекомендации:**\n",
        "- **Оптимизировать стратегию онбординга:** добавить дополнительные коммуникации или триггеры (e-mail, push, скидки) для новых клиентов в первые месяцы после регистрации.\n",
        "- **Укреплять программы лояльности:** концентрировать усилия на поддержке заинтересованности клиентов со стажем > 12 месяцев.\n",
        "- **Использовать стаж в сегментации:** использовать `StajFlag` при формировании целевых аудиторий для будущих кампаний."
      ]
    },
    {
      "cell_type": "markdown",
      "id": "hsLvuj7MqVTq",
      "metadata": {
        "id": "hsLvuj7MqVTq"
      },
      "source": [
        "## Гипотеза 3 – «Наличие детей снижает вероятность отклика на маркетинговую кампанию»"
      ]
    },
    {
      "cell_type": "markdown",
      "id": "-Lp_aKDOqlPR",
      "metadata": {
        "id": "-Lp_aKDOqlPR"
      },
      "source": [
        "**Формулировка**\n",
        "\n",
        "Клиенты, у которых есть дети (Kidhome > 0 или Teenhome > 0), реже откликаются на маркетинговую кампанию (Response = 1), по сравнению с клиентами без детей.\n",
        "\n",
        "**Обоснование**:\n",
        "\n",
        "Семьи с детьми обладают иным поведенческим профилем: бюджетные ограничения, ограниченное внимание к нецелевым кампаниям и приоритеты, отличающиеся от бездетных клиентов. Если предложения не адаптированы под семейные нужды, отклик может быть ниже.\n",
        "\n",
        "**Бизнес-смысл:**\n",
        "Если гипотеза подтвердится, маркетинговым командам следует разрабатывать отдельные кампании для клиентов с детьми, учитывающие их нужды и контекст. Это повысит релевантность коммуникаций и улучшит общую эффективность кампаний. Пренебрежение сегментированием может вести к потере потенциальной прибыли и лояльности.\n",
        "\n",
        "**H0 (нулевая гипотеза):**\n",
        "Вероятность отклика (Response = 1) одинакова у клиентов с детьми и без.\n",
        "\n",
        "**H1 (альтернативная гипотеза):**\n",
        "Клиенты с детьми реже откликаются на кампанию по сравнению с клиентами без детей.\n",
        "\n",
        "**Переменные:**\n",
        "\n",
        "Kidhome — количество маленьких детей\n",
        "\n",
        "Teenhome — количество подростков\n",
        "\n",
        "HasChildren — бинарная переменная (1 = есть дети, 0 = нет)\n",
        "\n",
        "Response — бинарная переменная: отклик на кампанию\n",
        "\n",
        "**Метод:**\n",
        "\n",
        "Тест: Хи-квадрат тест независимости (HasChildren × Response), уровень значимости α = 0.05; логистическая регрессия Response ~ HasChildren\n",
        "\n"
      ]
    },
    {
      "cell_type": "code",
      "execution_count": null,
      "id": "Nr2dA9jYkSX0",
      "metadata": {
        "colab": {
          "base_uri": "https://localhost:8080/",
          "height": 1000
        },
        "id": "Nr2dA9jYkSX0",
        "outputId": "6a1ac845-8cbc-4433-a3bd-069be5db3c95"
      },
      "outputs": [
        {
          "name": "stderr",
          "output_type": "stream",
          "text": [
            "C:\\Users\\Crxdu\\AppData\\Local\\Temp\\ipykernel_7456\\1310775496.py:48: FutureWarning: \n",
            "\n",
            "Passing `palette` without assigning `hue` is deprecated and will be removed in v0.14.0. Assign the `x` variable to `hue` and set `legend=False` for the same effect.\n",
            "\n",
            "  ax = sns.barplot(x='HasChildren', y='mean', data=response_rates, palette='Set2', capsize=0.2)\n"
          ]
        },
        {
          "data": {
            "image/png": "[encoded data removed]",
            "text/plain": [
              "<Figure size 800x500 with 1 Axes>"
            ]
          },
          "metadata": {},
          "output_type": "display_data"
        },
        {
          "name": "stdout",
          "output_type": "stream",
          "text": [
            "\n",
            "Таблица сопряженности (абсолютные значения):\n"
          ]
        },
        {
          "data": {
            "text/html": [
              "<div>\n",
              "<style scoped>\n",
              "    .dataframe tbody tr th:only-of-type {\n",
              "        vertical-align: middle;\n",
              "    }\n",
              "\n",
              "    .dataframe tbody tr th {\n",
              "        vertical-align: top;\n",
              "    }\n",
              "\n",
              "    .dataframe thead th {\n",
              "        text-align: right;\n",
              "    }\n",
              "</style>\n",
              "<table border=\"1\" class=\"dataframe\">\n",
              "  <thead>\n",
              "    <tr style=\"text-align: right;\">\n",
              "      <th>Response_numeric</th>\n",
              "      <th>0</th>\n",
              "      <th>1</th>\n",
              "      <th>All</th>\n",
              "    </tr>\n",
              "    <tr>\n",
              "      <th>HasChildren</th>\n",
              "      <th></th>\n",
              "      <th></th>\n",
              "      <th></th>\n",
              "    </tr>\n",
              "  </thead>\n",
              "  <tbody>\n",
              "    <tr>\n",
              "      <th>0</th>\n",
              "      <td>469</td>\n",
              "      <td>169</td>\n",
              "      <td>638</td>\n",
              "    </tr>\n",
              "    <tr>\n",
              "      <th>1</th>\n",
              "      <td>1437</td>\n",
              "      <td>165</td>\n",
              "      <td>1602</td>\n",
              "    </tr>\n",
              "    <tr>\n",
              "      <th>All</th>\n",
              "      <td>1906</td>\n",
              "      <td>334</td>\n",
              "      <td>2240</td>\n",
              "    </tr>\n",
              "  </tbody>\n",
              "</table>\n",
              "</div>"
            ],
            "text/plain": [
              "Response_numeric     0    1   All\n",
              "HasChildren                      \n",
              "0                  469  169   638\n",
              "1                 1437  165  1602\n",
              "All               1906  334  2240"
            ]
          },
          "metadata": {},
          "output_type": "display_data"
        },
        {
          "name": "stdout",
          "output_type": "stream",
          "text": [
            "\n",
            "Таблица сопряженности (в процентах):\n"
          ]
        },
        {
          "data": {
            "text/html": [
              "<div>\n",
              "<style scoped>\n",
              "    .dataframe tbody tr th:only-of-type {\n",
              "        vertical-align: middle;\n",
              "    }\n",
              "\n",
              "    .dataframe tbody tr th {\n",
              "        vertical-align: top;\n",
              "    }\n",
              "\n",
              "    .dataframe thead th {\n",
              "        text-align: right;\n",
              "    }\n",
              "</style>\n",
              "<table border=\"1\" class=\"dataframe\">\n",
              "  <thead>\n",
              "    <tr style=\"text-align: right;\">\n",
              "      <th>Response_numeric</th>\n",
              "      <th>0</th>\n",
              "      <th>1</th>\n",
              "    </tr>\n",
              "    <tr>\n",
              "      <th>HasChildren</th>\n",
              "      <th></th>\n",
              "      <th></th>\n",
              "    </tr>\n",
              "  </thead>\n",
              "  <tbody>\n",
              "    <tr>\n",
              "      <th>0</th>\n",
              "      <td>73.51</td>\n",
              "      <td>26.49</td>\n",
              "    </tr>\n",
              "    <tr>\n",
              "      <th>1</th>\n",
              "      <td>89.70</td>\n",
              "      <td>10.30</td>\n",
              "    </tr>\n",
              "  </tbody>\n",
              "</table>\n",
              "</div>"
            ],
            "text/plain": [
              "Response_numeric      0      1\n",
              "HasChildren                   \n",
              "0                 73.51  26.49\n",
              "1                 89.70  10.30"
            ]
          },
          "metadata": {},
          "output_type": "display_data"
        },
        {
          "name": "stdout",
          "output_type": "stream",
          "text": [
            "\n",
            "Хи-квадрат тест\n",
            "  Статистика Хи-квадрат: 92.987\n",
            "  p-значение: 0.0\n",
            "  V Крамера (размер эффекта): 0.144\n",
            "  Мин. ожидаемая частота: 95.13\n",
            "  Вывод: Значимое отличие\n",
            "\n",
            "Логистическая регрессия\n",
            "  Отношение шансов (OR): 0.319\n",
            "  95% ДИ OR: (0.251, 0.404)\n",
            "  p-значение: 0.0\n",
            "  Вывод: Наличие детей статистически снижает вероятность отклика\n"
          ]
        }
      ],
      "source": [
        "import pandas as pd\n",
        "import numpy as np\n",
        "import seaborn as sns\n",
        "import matplotlib.pyplot as plt\n",
        "import statsmodels.formula.api as smf\n",
        "from scipy.stats import chi2_contingency\n",
        "from IPython.display import display\n",
        "\n",
        "# Если уже было числовое преобразование, просто копируем\n",
        "df['Response_numeric'] = df['Response'] if set(df['Response'].unique()) <= {0, 1} else df['Response'].map({'Купил': 1, 'Не купил': 0})\n",
        "\n",
        "# Создание бинарной переменной \"Есть дети\"\n",
        "df['HasChildren'] = ((df['Kidhome'] > 0) | (df['Teenhome'] > 0)).astype(int)\n",
        "\n",
        "# Проверка и очистка данных\n",
        "df_model = df[['Response_numeric', 'HasChildren']].dropna()\n",
        "\n",
        "# Проверка на наличие данных\n",
        "if df_model.empty:\n",
        "    raise ValueError(\"Нет данных для анализа после удаления пропусков.\")\n",
        "\n",
        "# Хи-квадрат тест: таблица сопряженности\n",
        "contingency = pd.crosstab(df_model['HasChildren'], df_model['Response_numeric'], margins=True)\n",
        "contingency_pct = pd.crosstab(df_model['HasChildren'], df_model['Response_numeric'], normalize='index') * 100\n",
        "\n",
        "chi2, p_value, dof, expected = chi2_contingency(contingency.iloc[:-1, :-1])\n",
        "n = contingency.iloc[:-1, :-1].to_numpy().sum()\n",
        "phi2 = chi2 / n\n",
        "r, k = contingency.shape[0] - 1, contingency.shape[1] - 1\n",
        "cramers_v = np.sqrt(phi2 / min(r, k))\n",
        "\n",
        "# Логистическая регрессия\n",
        "logit_model = smf.logit('Response_numeric ~ HasChildren', data=df_model).fit(disp=0)\n",
        "odds_ratio = np.exp(logit_model.params['HasChildren'])\n",
        "conf = logit_model.conf_int().loc['HasChildren']\n",
        "conf_odds = np.exp(conf)\n",
        "\n",
        "# Подготовка данных для визуализации\n",
        "response_rates = df_model.groupby('HasChildren')['Response_numeric'].agg(['mean', 'count']).reset_index()\n",
        "response_rates['HasChildren'] = response_rates['HasChildren'].map({0: 'Нет детей', 1: 'Есть дети'})\n",
        "response_rates['se'] = np.sqrt(response_rates['mean'] * (1 - response_rates['mean']) / response_rates['count'])\n",
        "response_rates['ci_lower'] = response_rates['mean'] - 1.96 * response_rates['se']\n",
        "response_rates['ci_upper'] = response_rates['mean'] + 1.96 * response_rates['se']\n",
        "\n",
        "# Визуализация: столбчатая диаграмма с доверительными интервалами\n",
        "plt.figure(figsize=(8, 5))\n",
        "sns.set_style(\"whitegrid\")\n",
        "ax = sns.barplot(x='HasChildren', y='mean', data=response_rates, palette='Set2', capsize=0.2)\n",
        "for i, row in response_rates.iterrows():\n",
        "    ax.text(i, row['mean'] + 0.02, f'{row[\"mean\"]:.1%}', ha='center', va='bottom')\n",
        "plt.errorbar(x=response_rates.index, y=response_rates['mean'],\n",
        "             yerr=1.96 * response_rates['se'], fmt='none', c='black', capsize=5)\n",
        "plt.title('Доля откликов на кампанию по наличию детей', fontsize=14)\n",
        "plt.ylabel('Доля отклика')\n",
        "plt.xlabel('Наличие детей')\n",
        "plt.ylim(0, max(response_rates['ci_upper']) + 0.1)\n",
        "plt.tight_layout()\n",
        "plt.show()\n",
        "\n",
        "# Интерпретация результатов\n",
        "summary = {\n",
        "    \"Хи-квадрат тест\": {\n",
        "        \"Статистика Хи-квадрат\": round(chi2, 3),\n",
        "        \"p-значение\": round(p_value, 4),\n",
        "        \"V Крамера (размер эффекта)\": round(cramers_v, 3),\n",
        "        \"Мин. ожидаемая частота\": round(expected.min(), 2),\n",
        "        \"Вывод\": \"Значимое отличие\" if p_value < 0.05 else \"Отличий не обнаружено\"\n",
        "    },\n",
        "    \"Логистическая регрессия\": {\n",
        "        \"Отношение шансов (OR)\": round(odds_ratio, 3),\n",
        "        \"95% ДИ OR\": tuple(np.round(conf_odds, 3)),\n",
        "        \"p-значение\": round(logit_model.pvalues['HasChildren'], 4),\n",
        "        \"Вывод\": (\n",
        "            \"Наличие детей статистически снижает вероятность отклика\"\n",
        "            if logit_model.pvalues['HasChildren'] < 0.05 and odds_ratio < 1\n",
        "            else \"Эффект отсутствует или положительный\"\n",
        "        )\n",
        "    }\n",
        "}\n",
        "\n",
        "def print_summary(summary_dict):\n",
        "    for block, content in summary_dict.items():\n",
        "        print(f\"\\n{block}\")\n",
        "        for key, value in content.items():\n",
        "            print(f\"  {key}: {value}\")\n",
        "\n",
        "# Вывод таблиц и интерпретации\n",
        "print(\"\\nТаблица сопряженности (абсолютные значения):\")\n",
        "display(contingency)\n",
        "\n",
        "print(\"\\nТаблица сопряженности (в процентах):\")\n",
        "display(contingency_pct.round(2))\n",
        "\n",
        "print_summary(summary)\n"
      ]
    },
    {
      "cell_type": "markdown",
      "id": "Gy9Cncdc2RgP",
      "metadata": {
        "id": "Gy9Cncdc2RgP"
      },
      "source": [
        "Вывод\n",
        "\n",
        "- **Результаты chi2-теста:**\n",
        "  - chi2 = 92.99, p-value < 0.0001\n",
        "  - Минимальное ожидаемое значение в таблице: 95.13 (допущения соблюдены)\n",
        "  - **Вывод:** Нулевая гипотеза отвергается. Имеется статистически значимая разница в откликах между клиентами с детьми и без.\n",
        "\n",
        "- **Результаты логистической регрессии:**\n",
        "  - Отношение шансов (odds ratio) = **0.319**, 95% CI: [0.251, 0.404], p-value < 0.0001\n",
        "  - Наличие детей **снижает вероятность отклика более чем в 3 раза**. Эффект статистически значим.\n",
        "\n",
        "- Клиенты **без детей откликаются чаще**: ~26.5% против ~10.3%.\n",
        "- Наличие детей оказывает **отрицательное влияние на отклик**.\n",
        "- Эффект подтверждён **двумя независимыми методами**: хи-квадрат и логистической регрессией.\n",
        "\n",
        "Рекомендации\n",
        "\n",
        "1. **Сегментировать аудиторию по наличию детей** (переменная `HasChildren`) для повышения точности таргетинга.\n",
        "2. **Разработать отдельные кампании и предложения для семей с детьми**, учитывая их особые потребности (товары для детей, семейные наборы, гибкие форматы коммуникаций).\n",
        "3. **Исключить клиентов с детьми из массовых кампаний**, нацеленных на индивидуальных потребителей, чтобы не снижать общий отклик.\n",
        "4. **Использовать переменную `HasChildren` как фичу в модели предсказания отклика** (feature engineering).\n"
      ]
    },
    {
      "cell_type": "markdown",
      "id": "1A2X5umkD7G4",
      "metadata": {
        "id": "1A2X5umkD7G4"
      },
      "source": [
        "## Гипотеза 4 – «Мультиканальные клиенты более склонны откликаться на кампанию»\n",
        "\n",
        "**Формулировка**\n",
        "\n",
        "Клиенты, которые совершают покупки через все три канала — магазин (`NumStorePurchases`), веб-сайт (`NumWebPurchases`) и каталог (`NumCatalogPurchases`) — имеют более высокую вероятность отклика (Response = 1), чем остальные клиенты.\n",
        "\n",
        "**Обоснование**\n",
        "\n",
        "Активность во всех каналах продаж — признак высокой вовлечённости, лояльности и доверия к бренду. Такие клиенты более открыты коммуникациям и с большей вероятностью примут участие в маркетинговых инициативах.\n",
        "\n",
        "**Бизнес-смысл**\n",
        "\n",
        "Подтверждение гипотезы позволит:\n",
        "- Сегментировать \"тёплую\" аудиторию — мультиканальных клиентов.\n",
        "- Нацелить на них персонализированные или премиальные предложения.\n",
        "- Повысить отклик и рентабельность кампаний за счёт фокусировки на лояльной группе.\n",
        "\n",
        "**H₀ (нулевая гипотеза)**\n",
        "\n",
        "Вероятность отклика (Response = 1) **не зависит** от того, активен ли клиент во всех трёх каналах.\n",
        "\n",
        "**H₁ (альтернативная гипотеза)**\n",
        "\n",
        "Клиенты, использующие **все три канала**, откликаются **чаще**, чем остальные.\n",
        "\n",
        "**Переменные**\n",
        "\n",
        "- **NumWebPurchases** — количество покупок через сайт.\n",
        "- **NumCatalogPurchases** — количество покупок по каталогу.\n",
        "- **NumStorePurchases** — количество покупок в магазине.\n",
        "- **ChannelCount** — количество каналов с активностью (>0).\n",
        "- **IsMultichannel** — бинарная переменная: 1, если ChannelCount == 3, иначе 0.\n",
        "- **Response** — целевая переменная: 1 — отклик, 0 — нет.\n",
        "\n",
        "**Тест**\n",
        "\n",
        "- Хи-квадрат тест независимости (IsMultichannel × Response).\n",
        "- логистическая регрессия `Response ~ IsMultichannel`."
      ]
    },
    {
      "cell_type": "code",
      "execution_count": null,
      "id": "kLJFQU60lFJu",
      "metadata": {
        "colab": {
          "base_uri": "https://localhost:8080/",
          "height": 1000
        },
        "id": "kLJFQU60lFJu",
        "outputId": "4da5e590-a2cc-4f25-ce72-53037413b022"
      },
      "outputs": [
        {
          "name": "stderr",
          "output_type": "stream",
          "text": [
            "C:\\Users\\Crxdu\\AppData\\Local\\Temp\\ipykernel_7456\\3057118472.py:52: FutureWarning: \n",
            "\n",
            "Passing `palette` without assigning `hue` is deprecated and will be removed in v0.14.0. Assign the `x` variable to `hue` and set `legend=False` for the same effect.\n",
            "\n",
            "  ax = sns.barplot(x='IsMultichannel', y='mean', data=response_rate, capsize=0.1, palette='Set1')\n"
          ]
        },
        {
          "data": {
            "image/png": "[encoded data removed]",
            "text/plain": [
              "<Figure size 800x500 with 1 Axes>"
            ]
          },
          "metadata": {},
          "output_type": "display_data"
        },
        {
          "name": "stdout",
          "output_type": "stream",
          "text": [
            "Таблица сопряжённости (counts):\n"
          ]
        },
        {
          "data": {
            "text/html": [
              "<div>\n",
              "<style scoped>\n",
              "    .dataframe tbody tr th:only-of-type {\n",
              "        vertical-align: middle;\n",
              "    }\n",
              "\n",
              "    .dataframe tbody tr th {\n",
              "        vertical-align: top;\n",
              "    }\n",
              "\n",
              "    .dataframe thead th {\n",
              "        text-align: right;\n",
              "    }\n",
              "</style>\n",
              "<table border=\"1\" class=\"dataframe\">\n",
              "  <thead>\n",
              "    <tr style=\"text-align: right;\">\n",
              "      <th>Response_numeric</th>\n",
              "      <th>0</th>\n",
              "      <th>1</th>\n",
              "      <th>All</th>\n",
              "    </tr>\n",
              "    <tr>\n",
              "      <th>IsMultichannel</th>\n",
              "      <th></th>\n",
              "      <th></th>\n",
              "      <th></th>\n",
              "    </tr>\n",
              "  </thead>\n",
              "  <tbody>\n",
              "    <tr>\n",
              "      <th>0</th>\n",
              "      <td>575</td>\n",
              "      <td>23</td>\n",
              "      <td>598</td>\n",
              "    </tr>\n",
              "    <tr>\n",
              "      <th>1</th>\n",
              "      <td>1331</td>\n",
              "      <td>311</td>\n",
              "      <td>1642</td>\n",
              "    </tr>\n",
              "    <tr>\n",
              "      <th>All</th>\n",
              "      <td>1906</td>\n",
              "      <td>334</td>\n",
              "      <td>2240</td>\n",
              "    </tr>\n",
              "  </tbody>\n",
              "</table>\n",
              "</div>"
            ],
            "text/plain": [
              "Response_numeric     0    1   All\n",
              "IsMultichannel                   \n",
              "0                  575   23   598\n",
              "1                 1331  311  1642\n",
              "All               1906  334  2240"
            ]
          },
          "metadata": {},
          "output_type": "display_data"
        },
        {
          "name": "stdout",
          "output_type": "stream",
          "text": [
            "Таблица сопряжённости (проценты):\n"
          ]
        },
        {
          "data": {
            "text/html": [
              "<div>\n",
              "<style scoped>\n",
              "    .dataframe tbody tr th:only-of-type {\n",
              "        vertical-align: middle;\n",
              "    }\n",
              "\n",
              "    .dataframe tbody tr th {\n",
              "        vertical-align: top;\n",
              "    }\n",
              "\n",
              "    .dataframe thead th {\n",
              "        text-align: right;\n",
              "    }\n",
              "</style>\n",
              "<table border=\"1\" class=\"dataframe\">\n",
              "  <thead>\n",
              "    <tr style=\"text-align: right;\">\n",
              "      <th>Response_numeric</th>\n",
              "      <th>0</th>\n",
              "      <th>1</th>\n",
              "    </tr>\n",
              "    <tr>\n",
              "      <th>IsMultichannel</th>\n",
              "      <th></th>\n",
              "      <th></th>\n",
              "    </tr>\n",
              "  </thead>\n",
              "  <tbody>\n",
              "    <tr>\n",
              "      <th>0</th>\n",
              "      <td>96.15</td>\n",
              "      <td>3.85</td>\n",
              "    </tr>\n",
              "    <tr>\n",
              "      <th>1</th>\n",
              "      <td>81.06</td>\n",
              "      <td>18.94</td>\n",
              "    </tr>\n",
              "  </tbody>\n",
              "</table>\n",
              "</div>"
            ],
            "text/plain": [
              "Response_numeric      0      1\n",
              "IsMultichannel                \n",
              "0                 96.15   3.85\n",
              "1                 81.06  18.94"
            ]
          },
          "metadata": {},
          "output_type": "display_data"
        },
        {
          "name": "stdout",
          "output_type": "stream",
          "text": [
            "\n",
            "Хи-квадрат тест:\n",
            "Хи-квадрат = 77.532, p-value = 0.0000, Cramer's V = 0.132\n",
            "Вывод: Нулевая гипотеза отвергнута.\n",
            "\n",
            "Логистическая регрессия:\n",
            "Odds Ratio = 5.841, 95% CI = (3.782, 9.022), p-value = 0.0000\n",
            "Вывод: Мультиканальные клиенты статистически значимо чаще откликаются.\n"
          ]
        }
      ],
      "source": [
        "import pandas as pd\n",
        "import numpy as np\n",
        "import seaborn as sns\n",
        "import matplotlib.pyplot as plt\n",
        "import statsmodels.formula.api as smf\n",
        "from scipy.stats import chi2_contingency\n",
        "from IPython.display import display\n",
        "\n",
        "# Преобразование Response в числовую переменную\n",
        "if df['Response'].dtype == object:\n",
        "    df['Response_numeric'] = df['Response'].map({'Купил': 1, 'Не купил': 0})\n",
        "else:\n",
        "    df['Response_numeric'] = df['Response']  # Уже числовая\n",
        "\n",
        "# Создание переменной ChannelCount\n",
        "df['ChannelCount'] = (\n",
        "    (df['NumWebPurchases'] > 0).astype(int) +\n",
        "    (df['NumCatalogPurchases'] > 0).astype(int) +\n",
        "    (df['NumStorePurchases'] > 0).astype(int)\n",
        ")\n",
        "\n",
        "# Бинарная переменная: мультиканальный клиент\n",
        "df['IsMultichannel'] = (df['ChannelCount'] == 3).astype(int)\n",
        "\n",
        "# Удаление пропусков перед анализом\n",
        "df_model = df[['Response_numeric', 'IsMultichannel']].dropna()\n",
        "if df_model.empty:\n",
        "    raise ValueError(\"Нет данных для анализа после удаления пропусков.\")\n",
        "\n",
        "#  Хи-квадрат тест\n",
        "contingency = pd.crosstab(df_model['IsMultichannel'], df_model['Response_numeric'], margins=True)\n",
        "contingency_pct = pd.crosstab(df_model['IsMultichannel'], df_model['Response_numeric'], normalize='index') * 100\n",
        "\n",
        "chi2, p_value, dof, expected = chi2_contingency(contingency.iloc[:-1, :-1])\n",
        "min_expected = expected.min()\n",
        "n = contingency.iloc[:-1, :-1].to_numpy().sum()\n",
        "cramers_v = np.sqrt(chi2 / (n * (min(contingency.shape) - 1)))\n",
        "\n",
        "#Логистическая регрессия\n",
        "model = smf.logit(\"Response_numeric ~ IsMultichannel\", data=df_model).fit(disp=0)\n",
        "odds_ratio = np.exp(model.params['IsMultichannel'])\n",
        "ci = model.conf_int().loc['IsMultichannel']\n",
        "odds_ci = np.exp(ci)\n",
        "\n",
        "# Визуализация\n",
        "response_rate = df_model.groupby('IsMultichannel')['Response_numeric'].agg(['mean', 'count']).reset_index()\n",
        "response_rate['IsMultichannel'] = response_rate['IsMultichannel'].map({0: 'Не мультиканальные', 1: 'Мультиканальные'})\n",
        "response_rate['se'] = np.sqrt(response_rate['mean'] * (1 - response_rate['mean']) / response_rate['count'])\n",
        "\n",
        "plt.figure(figsize=(8, 5))\n",
        "sns.set_style(\"whitegrid\")\n",
        "ax = sns.barplot(x='IsMultichannel', y='mean', data=response_rate, capsize=0.1, palette='Set1')\n",
        "for i, row in response_rate.iterrows():\n",
        "    ax.text(i, row['mean'] + 0.02, f\"{row['mean']:.1%}\", ha='center')\n",
        "plt.ylabel(\"Доля отклика\")\n",
        "plt.xlabel(\"Тип клиента\")\n",
        "plt.title(\"Отклик по мультиканальности\")\n",
        "plt.ylim(0, max(response_rate['mean'] + 0.1))\n",
        "plt.tight_layout()\n",
        "plt.show()\n",
        "\n",
        "\n",
        "print(\"Таблица сопряжённости (counts):\")\n",
        "display(contingency)\n",
        "\n",
        "print(\"Таблица сопряжённости (проценты):\")\n",
        "display(contingency_pct.round(2))\n",
        "\n",
        "print(\"\\nХи-квадрат тест:\")\n",
        "print(f\"Хи-квадрат = {chi2:.3f}, p-value = {p_value:.4f}, Cramer's V = {cramers_v:.3f}\")\n",
        "print(\"Вывод:\", \"Нулевая гипотеза отвергнута.\" if p_value < 0.05 else \"Нулевая гипотеза не отвергнута.\")\n",
        "\n",
        "print(\"\\nЛогистическая регрессия:\")\n",
        "print(f\"Odds Ratio = {odds_ratio:.3f}, 95% CI = ({odds_ci[0]:.3f}, {odds_ci[1]:.3f}), p-value = {model.pvalues['IsMultichannel']:.4f}\")\n",
        "print(\"Вывод:\", \"Мультиканальные клиенты статистически значимо чаще откликаются.\"\n",
        "      if model.pvalues['IsMultichannel'] < 0.05 and odds_ratio > 1\n",
        "      else \"Эффект незначим.\")"
      ]
    },
    {
      "cell_type": "markdown",
      "id": "zmCXdffLFeyR",
      "metadata": {
        "id": "zmCXdffLFeyR"
      },
      "source": [
        "Статистические выводы\n",
        "\n",
        "- **Хи-квадрат тест:**\n",
        "  - Хи-квадрат = 77.53, p-value < 0.001\n",
        "  - Cramer's V = 0.107 → небольшой, но ощутимый эффект\n",
        "  - Нулевая гипотеза отвергнута: **различие в доле откликов между мультиканальными и немультиканальными клиентами статистически значимо.**\n",
        "\n",
        "- **Логистическая регрессия:**\n",
        "  - Odds Ratio = 5.841\n",
        "  - 95% доверительный интервал: (3.782, 9.022)\n",
        "  - p-value < 0.001\n",
        "  - Мультиканальные клиенты имеют почти **в 6 раз большую вероятность отклика**, чем остальные.\n",
        "\n",
        "Вывод\n",
        "\n",
        "Наличие активности клиента во всех трёх каналах (веб, магазин, каталог) существенно повышает вероятность отклика на маркетинговую кампанию. Это означает, что мультиканальные клиенты более лояльны, вовлечены и восприимчивы к маркетинговым предложениям.\n",
        "\n",
        "Мультиканальность — важный признак \"тёплой\" аудитории. Её стоит использовать как ключевой флаг при таргетировании и сегментации клиентов.\n",
        "\n",
        "Рекомендации\n",
        "\n",
        "1. **Фокус на мультиканальных клиентах:**\n",
        "   - Выделить таких клиентов в отдельный сегмент и сконцентрироваться на них при запуске новых кампаний.\n",
        "\n",
        "2. **Стимулирование многоканального поведения:**\n",
        "   - Разработать программы мотивации для немультиканальных клиентов: предложите скидки или бонусы за покупки через новые для них каналы (например, первый заказ по каталогу или в веб-магазине).\n",
        "\n",
        "3. **Персонализация коммуникации:**\n",
        "   - Интегрировать данные о каналах взаимодействия для создания более точных профилей клиентов и релевантных офферов.\n",
        "\n",
        "4. **Анализ поведения в каналах:**\n",
        "   - Углубить анализ: какие именно комбинации каналов наиболее эффективны?\n"
      ]
    },
    {
      "cell_type": "markdown",
      "id": "403ad321",
      "metadata": {
        "id": "403ad321"
      },
      "source": [
        "## Гипотеза 6 – «Количество посещений сайта влияет на принятие предложения»"
      ]
    },
    {
      "cell_type": "code",
      "execution_count": null,
      "id": "5edf5265",
      "metadata": {
        "id": "5edf5265",
        "outputId": "1c1efd0c-3917-436f-9f65-40612ce31c8e"
      },
      "outputs": [
        {
          "name": "stdout",
          "output_type": "stream",
          "text": [
            "U-Statistic: 323793.5000, P-Value: 0.6115\n"
          ]
        }
      ],
      "source": [
        "visits_accepted = df[df['Response'] == 1]['NumWebVisitsMonth']\n",
        "visits_rejected = df[df['Response'] == 0]['NumWebVisitsMonth']\n",
        "\n",
        "u_stat_visits, p_val_visits = stats.mannwhitneyu(visits_accepted, visits_rejected, alternative='two-sided')\n",
        "\n",
        "print(f\"U-Statistic: {u_stat_visits:.4f}, P-Value: {p_val_visits:.4f}\")"
      ]
    },
    {
      "cell_type": "markdown",
      "id": "571081d4",
      "metadata": {
        "id": "571081d4"
      },
      "source": [
        "**Вывод:** Нет статистически значимых различий в количестве посещений сайта между клиентами, которые приняли предложение, и теми, кто его отклонил. Мы не можем отвергнуть нулевую гипотезу о том, что количество посещений не влияет на принятие предложения."
      ]
    },
    {
      "cell_type": "code",
      "execution_count": null,
      "id": "2da8c769",
      "metadata": {
        "id": "2da8c769"
      },
      "outputs": [],
      "source": []
    }
  ],
  "metadata": {
    "colab": {
      "provenance": [],
      "toc_visible": true
    },
    "kernelspec": {
      "display_name": "Python 3 (ipykernel)",
      "language": "python",
      "name": "python3"
    },
    "language_info": {
      "codemirror_mode": {
        "name": "ipython",
        "version": 3
      },
      "file_extension": ".py",
      "mimetype": "text/x-python",
      "name": "python",
      "nbconvert_exporter": "python",
      "pygments_lexer": "ipython3",
      "version": "3.11.8"
    }
  },
  "nbformat": 4,
  "nbformat_minor": 5
}